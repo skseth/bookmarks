{
 "cells": [
  {
   "cell_type": "markdown",
   "metadata": {},
   "source": [
    "# Javascript\n",
    "\n",
    "[The Javascript Tutorial](http://javascript.info/)"
   ]
  },
  {
   "cell_type": "markdown",
   "metadata": {
    "collapsed": true
   },
   "source": [
    "# Exception and Error Handling\n",
    "\n",
    "\n",
    "[Exception Handling Considered Harmful](http://www.lighterra.com/papers/exceptionsharmful/) by \n",
    "\n",
    "[Cleaner, More Elegant and Wrong](https://blogs.msdn.microsoft.com/oldnewthing/20040422-00/?p=39683/) and [Cleaner, More Elegant and Harder to Recognize](https://blogs.msdn.microsoft.com/oldnewthing/20050114-00/?p=36693) by Raymond Chen on his blog, The Old New Thing\n",
    "\n",
    "[Google C++ Style Guide - Exceptions](https://google.github.io/styleguide/cppguide.html#Exceptions)\n",
    "\n",
    "[Why Go Gets Exceptions Right](http://dave.cheney.net/2012/01/18/why-go-gets-exceptions-right) - Dave Cheney\n",
    "\n",
    "[Andrei Alexandrescu on exceptions](https://channel9.msdn.com/Shows/Going+Deep/C-and-Beyond-2012-Andrei-Alexandrescu-Systematic-Error-Handling-in-C) - see from 10:00 minutes in\n",
    "\n",
    "Key points : Exception path is much slower than normal path. If some errors are common, this can significantly slow down your program. Exception Code is hopelessly serial - in a thread there is only one in flight. Demands immediate attention. Require dedicated control flow.\n",
    "\n",
    "[Errors are Values](https://blog.golang.org/errors-are-values) - Rob Pike \n",
    "\n",
    "[Error Handling in Rust](https://doc.rust-lang.org/stable/book/error-handling.html)\n",
    "\n",
    "[Interface Pollution in Java](http://blog.informatech.cr/2014/04/04/jdk-8-interface-pollution/) - see the section on checked exceptions\n"
   ]
  },
  {
   "cell_type": "code",
   "execution_count": null,
   "metadata": {
    "collapsed": true
   },
   "outputs": [],
   "source": []
  }
 ],
 "metadata": {
  "kernelspec": {
   "display_name": "Python 3",
   "language": "python",
   "name": "python3"
  },
  "language_info": {
   "codemirror_mode": {
    "name": "ipython",
    "version": 3
   },
   "file_extension": ".py",
   "mimetype": "text/x-python",
   "name": "python",
   "nbconvert_exporter": "python",
   "pygments_lexer": "ipython3",
   "version": "3.5.1"
  }
 },
 "nbformat": 4,
 "nbformat_minor": 0
}
