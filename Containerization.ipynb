{
 "cells": [
  {
   "cell_type": "markdown",
   "metadata": {},
   "source": [
    "# Container Presentations\n",
    "\n",
    "http://events.linuxfoundation.org/sites/events/files/slides/lcna13_petazzoni.pdf\n",
    "\n",
    "\n",
    "## Namespaces & CGroups\n",
    "\n",
    "https://lwn.net/Articles/531114/\n",
    "\n",
    "http://www.slideshare.net/jpetazzo/anatomy-of-a-container-namespaces-cgroups-some-filesystem-magic-linuxcon\n",
    "\n",
    "[Linux Containers & Future Cloud](http://media.wix.com/ugd/295986_d5059f95a78e451db5de3d54f711e45d.pdf)\n",
    "\n",
    "[Namespaces & CGroups](http://www.netdevconf.org/1.1/proceedings/slides/rosen-namespaces-cgroups-lxc.pdf)\n",
    "\n",
    "\n",
    "http://crosbymichael.com/creating-containers-part-1.html\n",
    "\n",
    "\n",
    "# Storage\n",
    "\n",
    "http://jpetazzo.github.io/assets/2015-07-01-deep-dive-into-docker-storage-drivers.html#70\n",
    "\n",
    "\n",
    "# Bottomley\n",
    "\n",
    "http://events.linuxfoundation.org/sites/events/files/eeus13_bottomley.pdf\n",
    "\n",
    "\n",
    "http://events.linuxfoundation.org/sites/events/files/slides/User%20Namespaces%20-%20ContainerCon%202015%20-%2016-9-final_0.pdf\n",
    "\n"
   ]
  }
 ],
 "metadata": {
  "kernelspec": {
   "display_name": "Python 3",
   "language": "python",
   "name": "python3"
  },
  "language_info": {
   "codemirror_mode": {
    "name": "ipython",
    "version": 3
   },
   "file_extension": ".py",
   "mimetype": "text/x-python",
   "name": "python",
   "nbconvert_exporter": "python",
   "pygments_lexer": "ipython3",
   "version": "3.5.1"
  }
 },
 "nbformat": 4,
 "nbformat_minor": 0
}
