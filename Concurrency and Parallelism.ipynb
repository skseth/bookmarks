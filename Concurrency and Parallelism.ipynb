{
 "cells": [
  {
   "cell_type": "markdown",
   "metadata": {},
   "source": [
    "\n",
    "[Art of Multiprocessor Programming - Maurice Herlihy](http://store.elsevier.com/The-Art-of-Multiprocessor-Programming-Revised-Reprint/Maurice-Herlihy/isbn-9780123973375/) with [videos](http://www.brown.edu/cis/sta/dev/herlihy_csci1760_fa12/#vid)\n",
    "\n",
    "\n"
   ]
  },
  {
   "cell_type": "markdown",
   "metadata": {
    "collapsed": true
   },
   "source": [
    "[Memory Barriers are like Source Control Operations](http://preshing.com/20120710/memory-barriers-are-like-source-control-operations/)\n",
    "\n",
    "[Acquire and Release Semantics](http://preshing.com/20120913/acquire-and-release-semantics/)\n"
   ]
  },
  {
   "cell_type": "code",
   "execution_count": null,
   "metadata": {
    "collapsed": true
   },
   "outputs": [],
   "source": []
  }
 ],
 "metadata": {
  "kernelspec": {
   "display_name": "Python 3",
   "language": "python",
   "name": "python3"
  },
  "language_info": {
   "codemirror_mode": {
    "name": "ipython",
    "version": 3
   },
   "file_extension": ".py",
   "mimetype": "text/x-python",
   "name": "python",
   "nbconvert_exporter": "python",
   "pygments_lexer": "ipython3",
   "version": "3.5.1"
  }
 },
 "nbformat": 4,
 "nbformat_minor": 0
}
